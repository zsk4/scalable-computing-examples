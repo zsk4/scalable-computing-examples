{
 "cells": [
  {
   "cell_type": "code",
   "execution_count": 1,
   "id": "c6234b07",
   "metadata": {},
   "outputs": [
    {
     "name": "stdout",
     "output_type": "stream",
     "text": [
      "<function double at 0x7fdd99f5b6d0>\n"
     ]
    }
   ],
   "source": [
    "# DRY Don't repeat yourself\n",
    "# Six words to tell you what the function does\n",
    "\n",
    "def double(x):\n",
    "    return 2 * x\n",
    "\n",
    "print(double)"
   ]
  },
  {
   "cell_type": "code",
   "execution_count": null,
   "id": "7af4081f",
   "metadata": {},
   "outputs": [
    {
     "name": "stdout",
     "output_type": "stream",
     "text": [
      "<class 'function'>\n",
      "<function double at 0x7fdd99f5b6d0>\n"
     ]
    }
   ],
   "source": [
    "twotimes = double # Treat function as an object\n",
    "print(type(twotimes))\n",
    "print(twotimes)"
   ]
  },
  {
   "cell_type": "code",
   "execution_count": null,
   "id": "d31b0d37",
   "metadata": {},
   "outputs": [
    {
     "name": "stdout",
     "output_type": "stream",
     "text": [
      "34\n",
      "24\n",
      "True\n"
     ]
    }
   ],
   "source": [
    "print(double(17))\n",
    "print(twotimes(12))\n",
    "print(twotimes(4) == double(4)) "
   ]
  },
  {
   "cell_type": "code",
   "execution_count": null,
   "id": "71795f28",
   "metadata": {},
   "outputs": [
    {
     "data": {
      "text/plain": [
       "[4, 6, 8]"
      ]
     },
     "execution_count": 8,
     "metadata": {},
     "output_type": "execute_result"
    }
   ],
   "source": [
    "list(map(twotimes, [2,3,4])) \n",
    "# Not twotimes() as referring to function as an object, not trying to execute the function\n",
    "# Called 'function composition'"
   ]
  },
  {
   "cell_type": "code",
   "execution_count": 9,
   "id": "99cf00ac",
   "metadata": {},
   "outputs": [
    {
     "name": "stdout",
     "output_type": "stream",
     "text": [
      "Ran wrapper...\n",
      "Ran some function\n",
      "Finished wrapper.\n"
     ]
    }
   ],
   "source": [
    "def some_function():\n",
    "    print(\"Ran some function\")\n",
    "\n",
    "def wrapper(func_to_run):\n",
    "    print(\"Ran wrapper...\")\n",
    "    func_to_run()\n",
    "    print(\"Finished wrapper.\")\n",
    "\n",
    "wrapper(some_function)"
   ]
  },
  {
   "cell_type": "code",
   "execution_count": null,
   "id": "067d94e5",
   "metadata": {},
   "outputs": [
    {
     "name": "stdout",
     "output_type": "stream",
     "text": [
      "Wrapper Started\n",
      "Ran some function\n",
      "Wrapper Ended\n"
     ]
    }
   ],
   "source": [
    "def my_decorator(func_to_run):\n",
    "    def wrapper():\n",
    "        print(\"Wrapper Started\")\n",
    "        func_to_run()\n",
    "        print(\"Wrapper Ended\")\n",
    "    \n",
    "    return wrapper\n",
    "\n",
    "f = my_decorator(some_function)\n",
    "f() # F is now shorthand for this specifically wrapped function"
   ]
  },
  {
   "cell_type": "code",
   "execution_count": 15,
   "id": "fec6dc1a",
   "metadata": {},
   "outputs": [
    {
     "name": "stdout",
     "output_type": "stream",
     "text": [
      "Wrapper Started\n",
      "Hello\n",
      "Wrapper Ended\n",
      "Wrapper Started\n",
      "Ran some function\n",
      "Wrapper Ended\n"
     ]
    }
   ],
   "source": [
    "# Python provides syntatical sugar to do this\n",
    "\n",
    "@my_decorator\n",
    "def hello():\n",
    "    print(\"Hello\")\n",
    "\n",
    "hello()\n",
    "\n",
    "f()"
   ]
  },
  {
   "cell_type": "code",
   "execution_count": 16,
   "id": "6cdd0a7f",
   "metadata": {},
   "outputs": [],
   "source": [
    "### GLOBAL VARIABLES ###"
   ]
  },
  {
   "cell_type": "code",
   "execution_count": null,
   "id": "34364b56",
   "metadata": {},
   "outputs": [
    {
     "name": "stdout",
     "output_type": "stream",
     "text": [
      "5\n"
     ]
    }
   ],
   "source": [
    "def do_task():\n",
    "    x = 10\n",
    "\n",
    "x = 5\n",
    "do_task()\n",
    "print(x)\n",
    "# Python looks at local, enclosing, etc. namespace and then prints the first x it finds.abs"
   ]
  },
  {
   "cell_type": "code",
   "execution_count": 21,
   "id": "d84cd9cf",
   "metadata": {},
   "outputs": [
    {
     "name": "stdout",
     "output_type": "stream",
     "text": [
      "10\n"
     ]
    }
   ],
   "source": [
    "def do_task():\n",
    "    global x\n",
    "    x = 10\n",
    "\n",
    "x = 5\n",
    "do_task()\n",
    "print(x)\n",
    "# Imagine do_task is passed to parsl\n",
    "# If x global, don't know execution order, so some do_tasks use global x and some use local x. \n",
    "# Cannot determine a priori result of a concurrent function that uses global variables"
   ]
  },
  {
   "cell_type": "code",
   "execution_count": null,
   "id": "7639acd4",
   "metadata": {},
   "outputs": [
    {
     "data": {
      "text/plain": [
       "18"
      ]
     },
     "execution_count": 22,
     "metadata": {},
     "output_type": "execute_result"
    }
   ],
   "source": [
    "a = 3\n",
    "def do_stuff(b):\n",
    "    return b * a\n",
    "\n",
    "do_stuff(6)\n",
    "# Nesting functions creates implicit linkage\n",
    "# This is not always bad!"
   ]
  },
  {
   "cell_type": "code",
   "execution_count": null,
   "id": "f4dda5e7",
   "metadata": {},
   "outputs": [],
   "source": [
    "# Functional programming languages treat functions as first class objects\n",
    "\n",
    "# Pure functions rely only on stuff in its paramater list and use immutable data types\n",
    "# No matter when called, if no globals in program\n",
    "# Function that has side effect (e.g. saves something to disc) is not a pure function\n",
    "    # Can run into deadlocks and race conditions"
   ]
  },
  {
   "cell_type": "code",
   "execution_count": 26,
   "id": "dea62646",
   "metadata": {},
   "outputs": [
    {
     "data": {
      "text/plain": [
       "49"
      ]
     },
     "execution_count": 26,
     "metadata": {},
     "output_type": "execute_result"
    }
   ],
   "source": [
    "global x\n",
    "\n",
    "def f(x):\n",
    "    return x * x\n",
    "\n",
    "f(x)\n",
    "x = 7\n",
    "f(x)\n"
   ]
  },
  {
   "cell_type": "code",
   "execution_count": 43,
   "id": "57ef71cf",
   "metadata": {},
   "outputs": [
    {
     "name": "stdout",
     "output_type": "stream",
     "text": [
      "120  HelloHello\n",
      " 2\n",
      " Hello0\n",
      "World1\n",
      "  WorldWorld\n",
      "\n"
     ]
    }
   ],
   "source": [
    "from concurrent.futures import ProcessPoolExecutor\n",
    "import time\n",
    "\n",
    "def hello(i):\n",
    "    print(i, \"Hello\")\n",
    "    print(i, \"World\")\n",
    "\n",
    "\n",
    "executor = ProcessPoolExecutor()\n",
    "futures = [executor.submit(hello, i) for i in range(3)]\n",
    "\n",
    "for future in futures:\n",
    "    future.result()\n",
    "\n",
    "# Screen is a shared resource!"
   ]
  },
  {
   "cell_type": "code",
   "execution_count": null,
   "id": "28f0ebaf",
   "metadata": {},
   "outputs": [
    {
     "name": "stdout",
     "output_type": "stream",
     "text": [
      "0 Hello\n",
      "0 World\n",
      "2 Hello\n",
      "2 World\n",
      "1 Hello\n",
      "1 World\n"
     ]
    }
   ],
   "source": [
    "# Use a lock to fix this\n",
    "from concurrent.futures import ProcessPoolExecutor\n",
    "import time\n",
    "import multiprocessing\n",
    "\n",
    "def hello(i, lock):\n",
    "    with lock: # Nothing else can happen between time of getting lock, until after with block\n",
    "        print(i, \"Hello\")\n",
    "        print(i, \"World\")\n",
    "\n",
    "lock = multiprocessing.Manager().Lock()\n",
    "executor = ProcessPoolExecutor()\n",
    "futures = [executor.submit(hello, i, lock) for i in range(3)]\n",
    "\n",
    "for future in futures:\n",
    "    future.result() # Still don't know order, as only locks that hello and world work together\n",
    "    "
   ]
  }
 ],
 "metadata": {
  "kernelspec": {
   "display_name": "scomp",
   "language": "python",
   "name": "python3"
  },
  "language_info": {
   "codemirror_mode": {
    "name": "ipython",
    "version": 3
   },
   "file_extension": ".py",
   "mimetype": "text/x-python",
   "name": "python",
   "nbconvert_exporter": "python",
   "pygments_lexer": "ipython3",
   "version": "3.10.12"
  }
 },
 "nbformat": 4,
 "nbformat_minor": 5
}
