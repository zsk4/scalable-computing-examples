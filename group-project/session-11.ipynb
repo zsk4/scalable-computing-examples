{
 "cells": [
  {
   "attachments": {},
   "cell_type": "markdown",
   "metadata": {},
   "source": [
    "# Session 15: Visualization"
   ]
  },
  {
   "cell_type": "code",
   "execution_count": 1,
   "metadata": {},
   "outputs": [],
   "source": [
    "import parsl\n",
    "from parsl import python_app\n",
    "from parsl.config import Config\n",
    "from parsl.executors import HighThroughputExecutor\n",
    "from parsl.providers import LocalProvider\n",
    "\n",
    "from ipyleaflet import Map, LocalTileLayer, WMSLayer, projections\n",
    "\n",
    "from grouputils import initialize_rasterizer"
   ]
  },
  {
   "attachments": {},
   "cell_type": "markdown",
   "metadata": {},
   "source": [
    "Interactive plotting is an excellent tool to facilitate data exploration. A very popular tool for creating Interactive maps is [Leaflet](https://leafletjs.com/). Leaflet is a JavaScript library for mapping, which has wrappers in numerous languages including python (`ipyleaflet`).\n",
    "\n",
    "In the previous two sessions, we created tiles at the maximum zoom level (z = 13). If you wanted to display all of this data on an interactive map, like a Leaflet map, it would be extremely slow to load because there is so much of it, and it's at such a high resolution. To show this data in a performant way on a map, we need to create _lower_ resolution tiles (\"downsampling\"), and they need to be in a web-accessible format (most browsers can't render GeoTIFF files, so PNG is better.) - [Here is a good explanation](https://www.maptiler.com/google-maps-coordinates-tile-bounds-projection/)\n",
    "\n",
    "Today, we will create web tiles as PNG images of those tiles at all zoom levels, from 1 to 13. This way, when we are zoomed _out_ in the interactive map, the _lower_ resolution zoom level 1 is loaded. Higher resolution levels load only when you zoom _in_, and the extent you are trying to view is smaller, so fewer tiles load. This scaling of resolution by zoom level is what allows us to interact with the data in a performant way.\n",
    "\n",
    "First, we'll set up the rasterizer as before."
   ]
  },
  {
   "cell_type": "code",
   "execution_count": 2,
   "metadata": {},
   "outputs": [],
   "source": [
    "iwp_rasterizer = initialize_rasterizer(\"/home/shares/example-pdg-data\")"
   ]
  },
  {
   "attachments": {},
   "cell_type": "markdown",
   "metadata": {},
   "source": [
    "Here are the methods that we will use from the RasterTiler:\n",
    "\n",
    "1. `parent_geotiffs_from_children`, which takes as an argument the set of tiles (GeoTIFFs) that we produced yesterday, and produces parent tiles at the next zoom level.\n",
    "\n",
    "2. `webtiles_from_geotiffs` takes the set of GeoTIFFs produced by `parent_geotiffs_from_children` and creates PNG web tiles from them.\n",
    "    - Note: PNG stands for \"Portable Network Graphic\", which is a type of raster image file!\n",
    "\n",
    "Like the last session, we will run this code in batches."
   ]
  },
  {
   "cell_type": "code",
   "execution_count": 3,
   "metadata": {},
   "outputs": [],
   "source": [
    "# We'll also use the make_batch function to create batches of\n",
    "# GeoTIFF files to process.\n",
    "def make_batch(items, batch_size):\n",
    "    return [items[i:i + batch_size] for i in range(0, len(items), batch_size)]"
   ]
  },
  {
   "attachments": {},
   "cell_type": "markdown",
   "metadata": {},
   "source": [
    "## Creating parent tiles\n",
    "\n",
    "To create lower resolution GeoTIFF files, we can combine high resolution GeoTIFFs then resample them so that we still have 256x256 pixel data. We will start with zoom level 12, and run the `parent_geotiffs_from_children` method on each zoom level to generate the parent zoom level. Then we run it on the parent level to generate the grandparent level...and so on."
   ]
  },
  {
   "cell_type": "code",
   "execution_count": 4,
   "metadata": {},
   "outputs": [
    {
     "name": "stdout",
     "output_type": "stream",
     "text": [
      "Parent Zs: [12, 11, 10, 9, 8, 7, 6, 5, 4, 3, 2, 1]\n"
     ]
    }
   ],
   "source": [
    "# Get each z-level of GeoTIFFs we need to create:\n",
    "parent_zs = list(range(12, 0, -1))\n",
    "print(f'Parent Zs: {parent_zs}')"
   ]
  },
  {
   "attachments": {},
   "cell_type": "markdown",
   "metadata": {},
   "source": [
    "Here is an example for how we can run this, without `parsl`, for just 1 z-level."
   ]
  },
  {
   "cell_type": "code",
   "execution_count": 5,
   "metadata": {},
   "outputs": [],
   "source": [
    "parent_z = 12\n",
    "batch_size = 50\n",
    "\n",
    "# get a list of child paths from the parent zoom level\n",
    "all_child_paths = iwp_rasterizer.tiles.get_filenames_from_dir('geotiff', z = parent_z + 1) # z-level 13\n",
    "\n",
    "# Make a list of all the parent tiles that will be created from the z+1 child\n",
    "# tiles\n",
    "all_parent_tiles = set()\n",
    "for child_path in all_child_paths:\n",
    "    parent_tile = iwp_rasterizer.tiles.get_parent_tile(child_path)\n",
    "    all_parent_tiles.add(parent_tile)\n",
    "\n",
    "all_parent_tiles = list(all_parent_tiles)\n",
    "\n",
    "# Break all parent tiles at level z into batches\n",
    "parent_tile_batches = make_batch(all_parent_tiles, batch_size)\n",
    "\n",
    "# write the geotiff files for z-level 12\n",
    "for parent_tile_batch in parent_tile_batches:\n",
    "    # crate rasters for z-level 12 from aggregated z-level 13 rasters\n",
    "    iwp_rasterizer.parent_geotiffs_from_children(parent_tile_batch, recursive = False)\n"
   ]
  },
  {
   "attachments": {},
   "cell_type": "markdown",
   "metadata": {},
   "source": [
    "Check out the z-levels within the `geotiff` directory. There is now a z-level 12 that is populated with files.\n",
    "\n",
    "Now that we know how to do this for one zoom level...\n",
    "\n",
    "- How would you write this out for all of the levels?\n",
    "- In what part of the code would you want to insert a `@python_app` decorator to parallelize the process?\n",
    "- What dependencies exist for this parallel process to run correctly?\n",
    "\n",
    "Write a parsl app to parallelize generating the parent tiles."
   ]
  },
  {
   "cell_type": "code",
   "execution_count": 15,
   "metadata": {},
   "outputs": [],
   "source": [
    "# Generate parsl app for creating parent geotiffs from children\n",
    "\n",
    "@python_app\n",
    "def parent_geotiffs(parent_tile_batch,rasterizer):\n",
    "    return rasterizer.parent_geotiffs_from_children(parent_tile_batch, recursive = False)\n"
   ]
  },
  {
   "cell_type": "markdown",
   "metadata": {},
   "source": [
    "Next, set up your executor as we did yesterday."
   ]
  },
  {
   "cell_type": "code",
   "execution_count": 16,
   "metadata": {},
   "outputs": [
    {
     "data": {
      "text/plain": [
       "<parsl.dataflow.dflow.DataFlowKernel at 0x7f77f7f5cb80>"
      ]
     },
     "execution_count": 16,
     "metadata": {},
     "output_type": "execute_result"
    }
   ],
   "source": [
    "# Set up executor\n",
    "activate_env = 'workon scomp'\n",
    "htex_local = Config(\n",
    "    executors=[\n",
    "        HighThroughputExecutor(\n",
    "            max_workers_per_node=11,\n",
    "            provider=LocalProvider(\n",
    "                worker_init=activate_env,\n",
    "                max_blocks = 1\n",
    "            )\n",
    "        )\n",
    "    ],\n",
    ")\n",
    "\n",
    "parsl.clear()\n",
    "parsl.load(htex_local)\n"
   ]
  },
  {
   "attachments": {},
   "cell_type": "markdown",
   "metadata": {},
   "source": [
    "Then generate parent tiles at all zoom levels."
   ]
  },
  {
   "cell_type": "code",
   "execution_count": 21,
   "metadata": {},
   "outputs": [
    {
     "name": "stdout",
     "output_type": "stream",
     "text": [
      "12\n",
      "11\n",
      "10\n",
      "9\n",
      "8\n",
      "7\n",
      "6\n",
      "5\n",
      "4\n",
      "3\n",
      "2\n",
      "1\n"
     ]
    }
   ],
   "source": [
    "# generate parent tiles at all zoom levels using the parsl app\n",
    "\n",
    "batch_size = 50\n",
    "\n",
    "for z_level in parent_zs:\n",
    "    \n",
    "    print(z_level)\n",
    "    # get a list of child paths from the parent zoom level\n",
    "    all_child_paths = iwp_rasterizer.tiles.get_filenames_from_dir('geotiff', z = z_level + 1)\n",
    "\n",
    "    # Make a list of all the parent tiles that will be created from the z+1 child\n",
    "    # tiles\n",
    "    all_parent_tiles = set()\n",
    "    for child_path in all_child_paths:\n",
    "        parent_tile = iwp_rasterizer.tiles.get_parent_tile(child_path)\n",
    "        all_parent_tiles.add(parent_tile)\n",
    "\n",
    "    all_parent_tiles = list(all_parent_tiles)\n",
    "\n",
    "    # Break all parent tiles at level z into batches\n",
    "    parent_tile_batches = make_batch(all_parent_tiles, batch_size)\n",
    "    \n",
    "    futures = []\n",
    "    for parent_tile_batch in parent_tile_batches:\n",
    "        app_future = parent_geotiffs(parent_tile_batch, iwp_rasterizer)\n",
    "        futures.append(app_future)\n",
    "\n",
    "    [app_future.result() for app_future in futures]\n"
   ]
  },
  {
   "cell_type": "code",
   "execution_count": 22,
   "metadata": {},
   "outputs": [],
   "source": [
    "htex_local.executors[0].shutdown()\n",
    "parsl.clear()"
   ]
  },
  {
   "attachments": {},
   "cell_type": "markdown",
   "metadata": {},
   "source": [
    "Great! Now all zoom levels have been created and populated with `.tif` files in the `geotiff` directory."
   ]
  },
  {
   "attachments": {},
   "cell_type": "markdown",
   "metadata": {},
   "source": [
    "# Make web tiles\n",
    "\n",
    "In the last step to create the web tiles for the map, we will use the `webtiles_from_geotiffs` method on all of the GeoTIFFs we just created. First, we need to update our `iwp_rasterizer` config object using the `update_ranges` method, which will add the new zoom ranges we just created to the config information."
   ]
  },
  {
   "cell_type": "code",
   "execution_count": 23,
   "metadata": {},
   "outputs": [],
   "source": [
    "iwp_rasterizer.update_ranges()"
   ]
  },
  {
   "attachments": {},
   "cell_type": "markdown",
   "metadata": {},
   "source": [
    "Now we can get a list of files to create webtiles from, and run the `webtiles_from_geotiffs` function on just one geotiff file."
   ]
  },
  {
   "cell_type": "code",
   "execution_count": 24,
   "metadata": {},
   "outputs": [
    {
     "data": {
      "text/plain": [
       "Tile(x=909, y=1059, z=13)"
      ]
     },
     "execution_count": 24,
     "metadata": {},
     "output_type": "execute_result"
    }
   ],
   "source": [
    "geotiff_paths = iwp_rasterizer.tiles.get_filenames_from_dir('geotiff')\n",
    "iwp_rasterizer.webtile_from_geotiff(geotiff_paths[0]) # Will need to change to webtiles_from_geotiffs"
   ]
  },
  {
   "attachments": {},
   "cell_type": "markdown",
   "metadata": {},
   "source": [
    "Notice that there is a new directory called web_tiles, which contains 2 PNG image of the 1 GeoTIFF file input. Each PNG image represents a statistic calculated for that GeoTIFF: number of ice wedge polygons per pixel, and proportion of each pixel that is covered by ice wedge polygons.\n",
    "\n",
    "Saving the rasters as PNG's is a form of \"lossless\" compression. This means that data is not actually lost when we convert it, and it can be reconstructed. An example of \"lossy\" compression would be saving the data as JPEG's."
   ]
  },
  {
   "attachments": {},
   "cell_type": "markdown",
   "metadata": {},
   "source": [
    "Like we've done before, create a `parsl` app to create the web tiles in parallel. For `webtiles_from_geotiffs`, set `update_ranges = False` because already did that above."
   ]
  },
  {
   "cell_type": "code",
   "execution_count": 31,
   "metadata": {},
   "outputs": [],
   "source": [
    "# create parsl app\n",
    "@python_app\n",
    "def webtiles_parsl(geotiff_paths, rasterizer):\n",
    "    return rasterizer.webtiles_from_geotiffs(geotiff_paths, update_ranger = False)"
   ]
  },
  {
   "cell_type": "code",
   "execution_count": 32,
   "metadata": {},
   "outputs": [
    {
     "data": {
      "text/plain": [
       "<parsl.dataflow.dflow.DataFlowKernel at 0x7f77f7f6ca60>"
      ]
     },
     "execution_count": 32,
     "metadata": {},
     "output_type": "execute_result"
    }
   ],
   "source": [
    "# run app over all of the geotiffs in batches of 200\n",
    "\n",
    "def make_batch(items, batch_size):\n",
    "    # Create batches of a given size from a list of items.\n",
    "    return [items[i:i + batch_size] for i in range(0, len(items), batch_size)]\n",
    "\n",
    "batch_size = 200\n",
    "geotiff_paths = iwp_rasterizer.tiles.get_filenames_from_dir('geotiff')\n",
    "batches = make_batch(geotiff_paths, batch_size)\n",
    "\n",
    "activate_env = 'workon scomp'\n",
    "htex_local = Config(\n",
    "    executors=[\n",
    "        HighThroughputExecutor(\n",
    "            max_workers_per_node=11,\n",
    "            provider=LocalProvider(\n",
    "                worker_init=activate_env,\n",
    "                max_blocks = 1\n",
    "            )\n",
    "        )\n",
    "    ],\n",
    ")\n",
    "\n",
    "parsl.clear()\n",
    "parsl.load(htex_local)"
   ]
  },
  {
   "cell_type": "code",
   "execution_count": 33,
   "metadata": {},
   "outputs": [
    {
     "ename": "TypeError",
     "evalue": "RasterTiler.webtiles_from_geotiffs() got an unexpected keyword argument 'update_ranger'",
     "output_type": "error",
     "traceback": [
      "\u001b[0;31m---------------------------------------------------------------------------\u001b[0m",
      "\u001b[0;31mTypeError\u001b[0m                                 Traceback (most recent call last)",
      "Cell \u001b[0;32mIn[33], line 7\u001b[0m\n\u001b[1;32m      4\u001b[0m     app_futures\u001b[38;5;241m.\u001b[39mappend(app_future)\n\u001b[1;32m      6\u001b[0m \u001b[38;5;66;03m# Don't continue to print message until all tiles have been rasterized\u001b[39;00m\n\u001b[0;32m----> 7\u001b[0m [app_future\u001b[38;5;241m.\u001b[39mresult() \u001b[38;5;28;01mfor\u001b[39;00m app_future \u001b[38;5;129;01min\u001b[39;00m app_futures]\n",
      "Cell \u001b[0;32mIn[33], line 7\u001b[0m, in \u001b[0;36m<listcomp>\u001b[0;34m(.0)\u001b[0m\n\u001b[1;32m      4\u001b[0m     app_futures\u001b[38;5;241m.\u001b[39mappend(app_future)\n\u001b[1;32m      6\u001b[0m \u001b[38;5;66;03m# Don't continue to print message until all tiles have been rasterized\u001b[39;00m\n\u001b[0;32m----> 7\u001b[0m [\u001b[43mapp_future\u001b[49m\u001b[38;5;241;43m.\u001b[39;49m\u001b[43mresult\u001b[49m\u001b[43m(\u001b[49m\u001b[43m)\u001b[49m \u001b[38;5;28;01mfor\u001b[39;00m app_future \u001b[38;5;129;01min\u001b[39;00m app_futures]\n",
      "File \u001b[0;32m/usr/lib/python3.10/concurrent/futures/_base.py:458\u001b[0m, in \u001b[0;36mFuture.result\u001b[0;34m(self, timeout)\u001b[0m\n\u001b[1;32m    456\u001b[0m     \u001b[38;5;28;01mraise\u001b[39;00m CancelledError()\n\u001b[1;32m    457\u001b[0m \u001b[38;5;28;01melif\u001b[39;00m \u001b[38;5;28mself\u001b[39m\u001b[38;5;241m.\u001b[39m_state \u001b[38;5;241m==\u001b[39m FINISHED:\n\u001b[0;32m--> 458\u001b[0m     \u001b[38;5;28;01mreturn\u001b[39;00m \u001b[38;5;28;43mself\u001b[39;49m\u001b[38;5;241;43m.\u001b[39;49m\u001b[43m__get_result\u001b[49m\u001b[43m(\u001b[49m\u001b[43m)\u001b[49m\n\u001b[1;32m    459\u001b[0m \u001b[38;5;28;01melse\u001b[39;00m:\n\u001b[1;32m    460\u001b[0m     \u001b[38;5;28;01mraise\u001b[39;00m \u001b[38;5;167;01mTimeoutError\u001b[39;00m()\n",
      "File \u001b[0;32m/usr/lib/python3.10/concurrent/futures/_base.py:403\u001b[0m, in \u001b[0;36mFuture.__get_result\u001b[0;34m(self)\u001b[0m\n\u001b[1;32m    401\u001b[0m \u001b[38;5;28;01mif\u001b[39;00m \u001b[38;5;28mself\u001b[39m\u001b[38;5;241m.\u001b[39m_exception:\n\u001b[1;32m    402\u001b[0m     \u001b[38;5;28;01mtry\u001b[39;00m:\n\u001b[0;32m--> 403\u001b[0m         \u001b[38;5;28;01mraise\u001b[39;00m \u001b[38;5;28mself\u001b[39m\u001b[38;5;241m.\u001b[39m_exception\n\u001b[1;32m    404\u001b[0m     \u001b[38;5;28;01mfinally\u001b[39;00m:\n\u001b[1;32m    405\u001b[0m         \u001b[38;5;66;03m# Break a reference cycle with the exception in self._exception\u001b[39;00m\n\u001b[1;32m    406\u001b[0m         \u001b[38;5;28mself\u001b[39m \u001b[38;5;241m=\u001b[39m \u001b[38;5;28;01mNone\u001b[39;00m\n",
      "File \u001b[0;32m~/.virtualenvs/scomp/lib/python3.10/site-packages/parsl/dataflow/dflow.py:343\u001b[0m, in \u001b[0;36mDataFlowKernel.handle_exec_update\u001b[0;34m(self, task_record, future)\u001b[0m\n\u001b[1;32m    340\u001b[0m     \u001b[38;5;28;01mraise\u001b[39;00m InternalConsistencyError(\u001b[38;5;124m\"\u001b[39m\u001b[38;5;124mdone callback called, despite future not reporting itself as done\u001b[39m\u001b[38;5;124m\"\u001b[39m)\n\u001b[1;32m    342\u001b[0m \u001b[38;5;28;01mtry\u001b[39;00m:\n\u001b[0;32m--> 343\u001b[0m     res \u001b[38;5;241m=\u001b[39m \u001b[38;5;28;43mself\u001b[39;49m\u001b[38;5;241;43m.\u001b[39;49m\u001b[43m_unwrap_remote_exception_wrapper\u001b[49m\u001b[43m(\u001b[49m\u001b[43mfuture\u001b[49m\u001b[43m)\u001b[49m\n\u001b[1;32m    345\u001b[0m \u001b[38;5;28;01mexcept\u001b[39;00m \u001b[38;5;167;01mException\u001b[39;00m \u001b[38;5;28;01mas\u001b[39;00m e:\n\u001b[1;32m    346\u001b[0m     logger\u001b[38;5;241m.\u001b[39minfo(\u001b[38;5;124mf\u001b[39m\u001b[38;5;124m\"\u001b[39m\u001b[38;5;124mTask \u001b[39m\u001b[38;5;132;01m{\u001b[39;00mtask_id\u001b[38;5;132;01m}\u001b[39;00m\u001b[38;5;124m try \u001b[39m\u001b[38;5;132;01m{\u001b[39;00mtask_record[\u001b[38;5;124m'\u001b[39m\u001b[38;5;124mtry_id\u001b[39m\u001b[38;5;124m'\u001b[39m]\u001b[38;5;132;01m}\u001b[39;00m\u001b[38;5;124m failed with exception of type \u001b[39m\u001b[38;5;132;01m{\u001b[39;00m\u001b[38;5;28mtype\u001b[39m(e)\u001b[38;5;241m.\u001b[39m\u001b[38;5;18m__name__\u001b[39m\u001b[38;5;132;01m}\u001b[39;00m\u001b[38;5;124m\"\u001b[39m)\n",
      "File \u001b[0;32m~/.virtualenvs/scomp/lib/python3.10/site-packages/parsl/dataflow/dflow.py:607\u001b[0m, in \u001b[0;36mDataFlowKernel._unwrap_remote_exception_wrapper\u001b[0;34m(future)\u001b[0m\n\u001b[1;32m    605\u001b[0m result \u001b[38;5;241m=\u001b[39m future\u001b[38;5;241m.\u001b[39mresult()\n\u001b[1;32m    606\u001b[0m \u001b[38;5;28;01mif\u001b[39;00m \u001b[38;5;28misinstance\u001b[39m(result, RemoteExceptionWrapper):\n\u001b[0;32m--> 607\u001b[0m     \u001b[43mresult\u001b[49m\u001b[38;5;241;43m.\u001b[39;49m\u001b[43mreraise\u001b[49m\u001b[43m(\u001b[49m\u001b[43m)\u001b[49m\n\u001b[1;32m    608\u001b[0m \u001b[38;5;28;01mreturn\u001b[39;00m result\n",
      "File \u001b[0;32m~/.virtualenvs/scomp/lib/python3.10/site-packages/parsl/app/errors.py:114\u001b[0m, in \u001b[0;36mRemoteExceptionWrapper.reraise\u001b[0;34m(self)\u001b[0m\n\u001b[1;32m    110\u001b[0m logger\u001b[38;5;241m.\u001b[39mdebug(\u001b[38;5;124m\"\u001b[39m\u001b[38;5;124mReraising exception of type \u001b[39m\u001b[38;5;132;01m{}\u001b[39;00m\u001b[38;5;124m\"\u001b[39m\u001b[38;5;241m.\u001b[39mformat(\u001b[38;5;28mself\u001b[39m\u001b[38;5;241m.\u001b[39me_type))\n\u001b[1;32m    112\u001b[0m v \u001b[38;5;241m=\u001b[39m \u001b[38;5;28mself\u001b[39m\u001b[38;5;241m.\u001b[39mget_exception()\n\u001b[0;32m--> 114\u001b[0m \u001b[38;5;28;01mraise\u001b[39;00m v\n",
      "File \u001b[0;32m~/.virtualenvs/scomp/lib/python3.10/site-packages/parsl/app/errors.py:138\u001b[0m, in \u001b[0;36mwrapper\u001b[0;34m()\u001b[0m\n\u001b[1;32m    136\u001b[0m \u001b[38;5;28;01mfrom\u001b[39;00m\u001b[38;5;250m \u001b[39m\u001b[38;5;21;01mparsl\u001b[39;00m\u001b[38;5;21;01m.\u001b[39;00m\u001b[38;5;21;01mapp\u001b[39;00m\u001b[38;5;21;01m.\u001b[39;00m\u001b[38;5;21;01merrors\u001b[39;00m\u001b[38;5;250m \u001b[39m\u001b[38;5;28;01mimport\u001b[39;00m RemoteExceptionWrapper\n\u001b[1;32m    137\u001b[0m \u001b[38;5;28;01mtry\u001b[39;00m:\n\u001b[0;32m--> 138\u001b[0m     \u001b[38;5;28;01mreturn\u001b[39;00m func(\u001b[38;5;241m*\u001b[39margs, \u001b[38;5;241m*\u001b[39m\u001b[38;5;241m*\u001b[39mkwargs)\n\u001b[1;32m    139\u001b[0m \u001b[38;5;28;01mexcept\u001b[39;00m \u001b[38;5;167;01mException\u001b[39;00m:\n\u001b[1;32m    140\u001b[0m     \u001b[38;5;28;01mreturn\u001b[39;00m RemoteExceptionWrapper(\u001b[38;5;241m*\u001b[39msys\u001b[38;5;241m.\u001b[39mexc_info())\n",
      "Cell \u001b[0;32mIn[31], line 4\u001b[0m, in \u001b[0;36mwebtiles_parsl\u001b[0;34m()\u001b[0m\n\u001b[1;32m      2\u001b[0m \u001b[38;5;129m@python_app\u001b[39m\n\u001b[1;32m      3\u001b[0m \u001b[38;5;28;01mdef\u001b[39;00m\u001b[38;5;250m \u001b[39m\u001b[38;5;21mwebtiles_parsl\u001b[39m(geotiff_paths, rasterizer):\n\u001b[0;32m----> 4\u001b[0m     \u001b[38;5;28;01mreturn\u001b[39;00m rasterizer\u001b[38;5;241m.\u001b[39mwebtiles_from_geotiffs(geotiff_paths, update_ranger \u001b[38;5;241m=\u001b[39m \u001b[38;5;28;01mFalse\u001b[39;00m)\n",
      "\u001b[0;31mTypeError\u001b[0m: RasterTiler.webtiles_from_geotiffs() got an unexpected keyword argument 'update_ranger'"
     ]
    }
   ],
   "source": [
    "app_futures = []\n",
    "for batch in batches:\n",
    "    app_future = webtiles_parsl(batch, iwp_rasterizer)\n",
    "    app_futures.append(app_future)\n",
    "\n",
    "# Don't continue to print message until all tiles have been rasterized\n",
    "[app_future.result() for app_future in app_futures]"
   ]
  },
  {
   "cell_type": "code",
   "execution_count": null,
   "metadata": {},
   "outputs": [],
   "source": [
    "htex_local.executors[0].shutdown()\n",
    "parsl.clear()"
   ]
  },
  {
   "attachments": {},
   "cell_type": "markdown",
   "metadata": {},
   "source": [
    "Wonderful! Now we have created web tiles for all zoom levels. Don't forget to shut down the executor."
   ]
  },
  {
   "cell_type": "markdown",
   "metadata": {},
   "source": [
    "## Make a map!"
   ]
  },
  {
   "cell_type": "markdown",
   "metadata": {},
   "source": [
    "Now we are finally ready to explore these data using `ipyleaflet`. First, we have to set up a basemap layer to use. We use a set of WMS (Web Map Service) tiles provided by USGS. One reason we chose this set is it allows us to reproject the data into EPSG 4326, which is the projection our data are in. Other commonly used web tiles are in web mercator, which is not what our data are in."
   ]
  },
  {
   "cell_type": "code",
   "execution_count": 29,
   "metadata": {},
   "outputs": [],
   "source": [
    "wms = WMSLayer(\n",
    "    url=\"https://basemap.nationalmap.gov:443/arcgis/services/USGSImageryTopo/MapServer/WmsServer\",\n",
    "    layers=\"0\",\n",
    "    format=\"image/png\",\n",
    "    transparent=True,\n",
    "    min_zoom=0,\n",
    "    crs=projections.EPSG4326\n",
    ")"
   ]
  },
  {
   "attachments": {},
   "cell_type": "markdown",
   "metadata": {},
   "source": [
    "Now we can call the `Map` function from `ipyleaflet`, set up a default zoom and center, add the WMS layer and projection, and finally add our set of local tiles using the `add_layer` method. \n",
    "\n",
    "Note that the path you give to the `LocalTileLayer` function has variables for z, x, and y. If you look in the `geotiff` directory at the higher zoom levels, you'll see that the directories and files are all named in a very standardized fashion. This is so that they can be automatically handled by the `LocalTileLayer` function. This is a standard for how web tiles are served. The methods from the `rasterizer` class handled this for us in our data processing."
   ]
  },
  {
   "cell_type": "code",
   "execution_count": 30,
   "metadata": {},
   "outputs": [
    {
     "data": {
      "application/vnd.jupyter.widget-view+json": {
       "model_id": "c85702cb10b24d918da982e47b702b05",
       "version_major": 2,
       "version_minor": 0
      },
      "text/plain": [
       "Map(center=[66.5, -159.9], controls=(ZoomControl(options=['position', 'zoom_in_text', 'zoom_in_title', 'zoom_o…"
      ]
     },
     "execution_count": 30,
     "metadata": {},
     "output_type": "execute_result"
    }
   ],
   "source": [
    "map = Map(center=(66.5, -159.9),\n",
    "        zoom=9,\n",
    "        layers=(wms,),\n",
    "        crs=projections.EPSG4326)\n",
    "\n",
    "map.add_layer(LocalTileLayer(path='web_tiles/prop_pixel_covered_by_IWP/WGS1984Quad/{z}/{x}/{y}.png'));\n",
    "\n",
    "map"
   ]
  },
  {
   "cell_type": "markdown",
   "metadata": {},
   "source": [
    "## Bonus\n",
    "\n",
    "Play around with [`ipyleaflet`](https://ipyleaflet.readthedocs.io/en/latest/) and add whatever features you think might be useful, like a legend or markers."
   ]
  }
 ],
 "metadata": {
  "kernelspec": {
   "display_name": "scomp",
   "language": "python",
   "name": "python3"
  },
  "language_info": {
   "codemirror_mode": {
    "name": "ipython",
    "version": 3
   },
   "file_extension": ".py",
   "mimetype": "text/x-python",
   "name": "python",
   "nbconvert_exporter": "python",
   "pygments_lexer": "ipython3",
   "version": "3.10.12"
  },
  "orig_nbformat": 4
 },
 "nbformat": 4,
 "nbformat_minor": 2
}
